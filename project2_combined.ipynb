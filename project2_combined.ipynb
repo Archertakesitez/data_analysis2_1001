{
 "cells": [
  {
   "cell_type": "code",
   "execution_count": 8,
   "metadata": {},
   "outputs": [],
   "source": [
    "import pandas as pd\n",
    "import numpy as np"
   ]
  },
  {
   "cell_type": "code",
   "execution_count": 9,
   "metadata": {},
   "outputs": [],
   "source": [
    "data = pd.read_csv(\"data/movieReplicationSet.csv\")\n",
    "num_users_rows = 1097 \n",
    "num_movie_cols = 400"
   ]
  },
  {
   "cell_type": "markdown",
   "metadata": {},
   "source": [
    "### Imputation"
   ]
  },
  {
   "cell_type": "code",
   "execution_count": 10,
   "metadata": {},
   "outputs": [],
   "source": [
    "col_mean_dict={}\n",
    "for col in range(0,num_movie_cols):\n",
    "    col_mean = np.mean(data.iloc[:,col])\n",
    "    col_mean_dict[col] = col_mean\n",
    "row_mean_dict={}\n",
    "for row in range(0,num_users_rows):\n",
    "    row_mean = np.mean(data.iloc[row,:])\n",
    "    row_mean_dict[row] = row_mean"
   ]
  },
  {
   "cell_type": "code",
   "execution_count": 11,
   "metadata": {},
   "outputs": [
    {
     "data": {
      "text/html": [
       "<div>\n",
       "<style scoped>\n",
       "    .dataframe tbody tr th:only-of-type {\n",
       "        vertical-align: middle;\n",
       "    }\n",
       "\n",
       "    .dataframe tbody tr th {\n",
       "        vertical-align: top;\n",
       "    }\n",
       "\n",
       "    .dataframe thead th {\n",
       "        text-align: right;\n",
       "    }\n",
       "</style>\n",
       "<table border=\"1\" class=\"dataframe\">\n",
       "  <thead>\n",
       "    <tr style=\"text-align: right;\">\n",
       "      <th></th>\n",
       "      <th>The Life of David Gale (2003)</th>\n",
       "      <th>Wing Commander (1999)</th>\n",
       "      <th>Django Unchained (2012)</th>\n",
       "      <th>Alien (1979)</th>\n",
       "      <th>Indiana Jones and the Last Crusade (1989)</th>\n",
       "      <th>Snatch (2000)</th>\n",
       "      <th>Rambo: First Blood Part II (1985)</th>\n",
       "      <th>Fargo (1996)</th>\n",
       "      <th>Let the Right One In (2008)</th>\n",
       "      <th>Black Swan (2010)</th>\n",
       "      <th>...</th>\n",
       "      <th>When watching a movie I cheer or shout or talk or curse at the screen</th>\n",
       "      <th>When watching a movie I feel like the things on the screen are happening to me</th>\n",
       "      <th>As a movie unfolds I start to have problems keeping track of events that happened earlier</th>\n",
       "      <th>The emotions on the screen \"rub off\" on me - for instance if something sad is happening I get sad or if something frightening is happening I get scared</th>\n",
       "      <th>When watching a movie I get completely immersed in the alternative reality of the film</th>\n",
       "      <th>Movies change my position on social economic or political issues</th>\n",
       "      <th>When watching movies things get so intense that I have to stop watching</th>\n",
       "      <th>Gender identity (1 = female; 2 = male; 3 = self-described)</th>\n",
       "      <th>Are you an only child? (1: Yes; 0: No; -1: Did not respond)</th>\n",
       "      <th>Movies are best enjoyed alone (1: Yes; 0: No; -1: Did not respond)</th>\n",
       "    </tr>\n",
       "  </thead>\n",
       "  <tbody>\n",
       "    <tr>\n",
       "      <th>0</th>\n",
       "      <td>2.531137</td>\n",
       "      <td>2.466043</td>\n",
       "      <td>4.000000</td>\n",
       "      <td>2.809286</td>\n",
       "      <td>3.000000</td>\n",
       "      <td>2.754308</td>\n",
       "      <td>2.638172</td>\n",
       "      <td>2.905283</td>\n",
       "      <td>2.703655</td>\n",
       "      <td>2.911262</td>\n",
       "      <td>...</td>\n",
       "      <td>1.0</td>\n",
       "      <td>6.0</td>\n",
       "      <td>2.0</td>\n",
       "      <td>5.0</td>\n",
       "      <td>5.0</td>\n",
       "      <td>5.0</td>\n",
       "      <td>1.0</td>\n",
       "      <td>1.0</td>\n",
       "      <td>0</td>\n",
       "      <td>1</td>\n",
       "    </tr>\n",
       "    <tr>\n",
       "      <th>1</th>\n",
       "      <td>2.535254</td>\n",
       "      <td>2.470159</td>\n",
       "      <td>1.500000</td>\n",
       "      <td>2.813402</td>\n",
       "      <td>2.848905</td>\n",
       "      <td>2.758424</td>\n",
       "      <td>2.642288</td>\n",
       "      <td>2.909399</td>\n",
       "      <td>2.707771</td>\n",
       "      <td>2.915378</td>\n",
       "      <td>...</td>\n",
       "      <td>3.0</td>\n",
       "      <td>1.0</td>\n",
       "      <td>1.0</td>\n",
       "      <td>6.0</td>\n",
       "      <td>5.0</td>\n",
       "      <td>3.0</td>\n",
       "      <td>2.0</td>\n",
       "      <td>1.0</td>\n",
       "      <td>0</td>\n",
       "      <td>0</td>\n",
       "    </tr>\n",
       "    <tr>\n",
       "      <th>2</th>\n",
       "      <td>2.635754</td>\n",
       "      <td>2.570660</td>\n",
       "      <td>3.136807</td>\n",
       "      <td>2.913902</td>\n",
       "      <td>2.949405</td>\n",
       "      <td>2.858924</td>\n",
       "      <td>2.742788</td>\n",
       "      <td>3.009899</td>\n",
       "      <td>2.808271</td>\n",
       "      <td>3.015878</td>\n",
       "      <td>...</td>\n",
       "      <td>5.0</td>\n",
       "      <td>4.0</td>\n",
       "      <td>3.0</td>\n",
       "      <td>5.0</td>\n",
       "      <td>5.0</td>\n",
       "      <td>4.0</td>\n",
       "      <td>4.0</td>\n",
       "      <td>1.0</td>\n",
       "      <td>1</td>\n",
       "      <td>0</td>\n",
       "    </tr>\n",
       "    <tr>\n",
       "      <th>3</th>\n",
       "      <td>2.468740</td>\n",
       "      <td>2.403645</td>\n",
       "      <td>2.000000</td>\n",
       "      <td>2.746888</td>\n",
       "      <td>3.000000</td>\n",
       "      <td>2.691910</td>\n",
       "      <td>2.575774</td>\n",
       "      <td>2.842885</td>\n",
       "      <td>2.641257</td>\n",
       "      <td>4.000000</td>\n",
       "      <td>...</td>\n",
       "      <td>3.0</td>\n",
       "      <td>1.0</td>\n",
       "      <td>1.0</td>\n",
       "      <td>4.0</td>\n",
       "      <td>5.0</td>\n",
       "      <td>3.0</td>\n",
       "      <td>1.0</td>\n",
       "      <td>1.0</td>\n",
       "      <td>0</td>\n",
       "      <td>1</td>\n",
       "    </tr>\n",
       "    <tr>\n",
       "      <th>4</th>\n",
       "      <td>2.379504</td>\n",
       "      <td>2.314410</td>\n",
       "      <td>3.500000</td>\n",
       "      <td>2.657652</td>\n",
       "      <td>0.500000</td>\n",
       "      <td>2.602674</td>\n",
       "      <td>0.500000</td>\n",
       "      <td>1.000000</td>\n",
       "      <td>2.552021</td>\n",
       "      <td>0.000000</td>\n",
       "      <td>...</td>\n",
       "      <td>2.0</td>\n",
       "      <td>3.0</td>\n",
       "      <td>2.0</td>\n",
       "      <td>5.0</td>\n",
       "      <td>6.0</td>\n",
       "      <td>4.0</td>\n",
       "      <td>4.0</td>\n",
       "      <td>1.0</td>\n",
       "      <td>1</td>\n",
       "      <td>1</td>\n",
       "    </tr>\n",
       "    <tr>\n",
       "      <th>...</th>\n",
       "      <td>...</td>\n",
       "      <td>...</td>\n",
       "      <td>...</td>\n",
       "      <td>...</td>\n",
       "      <td>...</td>\n",
       "      <td>...</td>\n",
       "      <td>...</td>\n",
       "      <td>...</td>\n",
       "      <td>...</td>\n",
       "      <td>...</td>\n",
       "      <td>...</td>\n",
       "      <td>...</td>\n",
       "      <td>...</td>\n",
       "      <td>...</td>\n",
       "      <td>...</td>\n",
       "      <td>...</td>\n",
       "      <td>...</td>\n",
       "      <td>...</td>\n",
       "      <td>...</td>\n",
       "      <td>...</td>\n",
       "      <td>...</td>\n",
       "    </tr>\n",
       "    <tr>\n",
       "      <th>1092</th>\n",
       "      <td>2.677848</td>\n",
       "      <td>2.612753</td>\n",
       "      <td>3.178901</td>\n",
       "      <td>2.955996</td>\n",
       "      <td>3.500000</td>\n",
       "      <td>2.901018</td>\n",
       "      <td>2.784882</td>\n",
       "      <td>3.051993</td>\n",
       "      <td>2.850365</td>\n",
       "      <td>3.057972</td>\n",
       "      <td>...</td>\n",
       "      <td>3.0</td>\n",
       "      <td>4.0</td>\n",
       "      <td>3.0</td>\n",
       "      <td>5.0</td>\n",
       "      <td>5.0</td>\n",
       "      <td>4.0</td>\n",
       "      <td>4.0</td>\n",
       "      <td>1.0</td>\n",
       "      <td>0</td>\n",
       "      <td>0</td>\n",
       "    </tr>\n",
       "    <tr>\n",
       "      <th>1093</th>\n",
       "      <td>3.000000</td>\n",
       "      <td>4.000000</td>\n",
       "      <td>3.450559</td>\n",
       "      <td>3.227654</td>\n",
       "      <td>4.000000</td>\n",
       "      <td>4.000000</td>\n",
       "      <td>2.500000</td>\n",
       "      <td>3.323651</td>\n",
       "      <td>3.500000</td>\n",
       "      <td>3.500000</td>\n",
       "      <td>...</td>\n",
       "      <td>5.0</td>\n",
       "      <td>3.0</td>\n",
       "      <td>5.0</td>\n",
       "      <td>5.0</td>\n",
       "      <td>5.0</td>\n",
       "      <td>6.0</td>\n",
       "      <td>5.0</td>\n",
       "      <td>1.0</td>\n",
       "      <td>0</td>\n",
       "      <td>0</td>\n",
       "    </tr>\n",
       "    <tr>\n",
       "      <th>1094</th>\n",
       "      <td>2.672533</td>\n",
       "      <td>2.607438</td>\n",
       "      <td>3.173586</td>\n",
       "      <td>2.950681</td>\n",
       "      <td>2.986184</td>\n",
       "      <td>2.895703</td>\n",
       "      <td>2.779567</td>\n",
       "      <td>3.500000</td>\n",
       "      <td>2.845050</td>\n",
       "      <td>3.052657</td>\n",
       "      <td>...</td>\n",
       "      <td>6.0</td>\n",
       "      <td>3.0</td>\n",
       "      <td>1.0</td>\n",
       "      <td>6.0</td>\n",
       "      <td>6.0</td>\n",
       "      <td>4.0</td>\n",
       "      <td>2.0</td>\n",
       "      <td>1.0</td>\n",
       "      <td>0</td>\n",
       "      <td>0</td>\n",
       "    </tr>\n",
       "    <tr>\n",
       "      <th>1095</th>\n",
       "      <td>2.743089</td>\n",
       "      <td>2.677995</td>\n",
       "      <td>3.244142</td>\n",
       "      <td>3.021237</td>\n",
       "      <td>3.056740</td>\n",
       "      <td>2.966259</td>\n",
       "      <td>2.850124</td>\n",
       "      <td>3.117234</td>\n",
       "      <td>2.915606</td>\n",
       "      <td>3.123214</td>\n",
       "      <td>...</td>\n",
       "      <td>1.0</td>\n",
       "      <td>1.0</td>\n",
       "      <td>1.0</td>\n",
       "      <td>4.0</td>\n",
       "      <td>3.0</td>\n",
       "      <td>3.0</td>\n",
       "      <td>1.0</td>\n",
       "      <td>1.0</td>\n",
       "      <td>0</td>\n",
       "      <td>1</td>\n",
       "    </tr>\n",
       "    <tr>\n",
       "      <th>1096</th>\n",
       "      <td>2.610232</td>\n",
       "      <td>2.545138</td>\n",
       "      <td>4.000000</td>\n",
       "      <td>2.888381</td>\n",
       "      <td>2.500000</td>\n",
       "      <td>2.833403</td>\n",
       "      <td>2.717267</td>\n",
       "      <td>3.000000</td>\n",
       "      <td>2.782750</td>\n",
       "      <td>3.500000</td>\n",
       "      <td>...</td>\n",
       "      <td>3.0</td>\n",
       "      <td>4.0</td>\n",
       "      <td>1.0</td>\n",
       "      <td>4.0</td>\n",
       "      <td>4.0</td>\n",
       "      <td>4.0</td>\n",
       "      <td>1.0</td>\n",
       "      <td>1.0</td>\n",
       "      <td>0</td>\n",
       "      <td>1</td>\n",
       "    </tr>\n",
       "  </tbody>\n",
       "</table>\n",
       "<p>1097 rows × 477 columns</p>\n",
       "</div>"
      ],
      "text/plain": [
       "      The Life of David Gale (2003)  Wing Commander (1999)  \\\n",
       "0                          2.531137               2.466043   \n",
       "1                          2.535254               2.470159   \n",
       "2                          2.635754               2.570660   \n",
       "3                          2.468740               2.403645   \n",
       "4                          2.379504               2.314410   \n",
       "...                             ...                    ...   \n",
       "1092                       2.677848               2.612753   \n",
       "1093                       3.000000               4.000000   \n",
       "1094                       2.672533               2.607438   \n",
       "1095                       2.743089               2.677995   \n",
       "1096                       2.610232               2.545138   \n",
       "\n",
       "      Django Unchained (2012)  Alien (1979)  \\\n",
       "0                    4.000000      2.809286   \n",
       "1                    1.500000      2.813402   \n",
       "2                    3.136807      2.913902   \n",
       "3                    2.000000      2.746888   \n",
       "4                    3.500000      2.657652   \n",
       "...                       ...           ...   \n",
       "1092                 3.178901      2.955996   \n",
       "1093                 3.450559      3.227654   \n",
       "1094                 3.173586      2.950681   \n",
       "1095                 3.244142      3.021237   \n",
       "1096                 4.000000      2.888381   \n",
       "\n",
       "      Indiana Jones and the Last Crusade (1989)  Snatch (2000)  \\\n",
       "0                                      3.000000       2.754308   \n",
       "1                                      2.848905       2.758424   \n",
       "2                                      2.949405       2.858924   \n",
       "3                                      3.000000       2.691910   \n",
       "4                                      0.500000       2.602674   \n",
       "...                                         ...            ...   \n",
       "1092                                   3.500000       2.901018   \n",
       "1093                                   4.000000       4.000000   \n",
       "1094                                   2.986184       2.895703   \n",
       "1095                                   3.056740       2.966259   \n",
       "1096                                   2.500000       2.833403   \n",
       "\n",
       "      Rambo: First Blood Part II (1985)  Fargo (1996)  \\\n",
       "0                              2.638172      2.905283   \n",
       "1                              2.642288      2.909399   \n",
       "2                              2.742788      3.009899   \n",
       "3                              2.575774      2.842885   \n",
       "4                              0.500000      1.000000   \n",
       "...                                 ...           ...   \n",
       "1092                           2.784882      3.051993   \n",
       "1093                           2.500000      3.323651   \n",
       "1094                           2.779567      3.500000   \n",
       "1095                           2.850124      3.117234   \n",
       "1096                           2.717267      3.000000   \n",
       "\n",
       "      Let the Right One In (2008)  Black Swan (2010)  ...  \\\n",
       "0                        2.703655           2.911262  ...   \n",
       "1                        2.707771           2.915378  ...   \n",
       "2                        2.808271           3.015878  ...   \n",
       "3                        2.641257           4.000000  ...   \n",
       "4                        2.552021           0.000000  ...   \n",
       "...                           ...                ...  ...   \n",
       "1092                     2.850365           3.057972  ...   \n",
       "1093                     3.500000           3.500000  ...   \n",
       "1094                     2.845050           3.052657  ...   \n",
       "1095                     2.915606           3.123214  ...   \n",
       "1096                     2.782750           3.500000  ...   \n",
       "\n",
       "      When watching a movie I cheer or shout or talk or curse at the screen  \\\n",
       "0                                                   1.0                       \n",
       "1                                                   3.0                       \n",
       "2                                                   5.0                       \n",
       "3                                                   3.0                       \n",
       "4                                                   2.0                       \n",
       "...                                                 ...                       \n",
       "1092                                                3.0                       \n",
       "1093                                                5.0                       \n",
       "1094                                                6.0                       \n",
       "1095                                                1.0                       \n",
       "1096                                                3.0                       \n",
       "\n",
       "      When watching a movie I feel like the things on the screen are happening to me  \\\n",
       "0                                                   6.0                                \n",
       "1                                                   1.0                                \n",
       "2                                                   4.0                                \n",
       "3                                                   1.0                                \n",
       "4                                                   3.0                                \n",
       "...                                                 ...                                \n",
       "1092                                                4.0                                \n",
       "1093                                                3.0                                \n",
       "1094                                                3.0                                \n",
       "1095                                                1.0                                \n",
       "1096                                                4.0                                \n",
       "\n",
       "      As a movie unfolds I start to have problems keeping track of events that happened earlier  \\\n",
       "0                                                   2.0                                           \n",
       "1                                                   1.0                                           \n",
       "2                                                   3.0                                           \n",
       "3                                                   1.0                                           \n",
       "4                                                   2.0                                           \n",
       "...                                                 ...                                           \n",
       "1092                                                3.0                                           \n",
       "1093                                                5.0                                           \n",
       "1094                                                1.0                                           \n",
       "1095                                                1.0                                           \n",
       "1096                                                1.0                                           \n",
       "\n",
       "      The emotions on the screen \"rub off\" on me - for instance if something sad is happening I get sad or if something frightening is happening I get scared  \\\n",
       "0                                                   5.0                                                                                                         \n",
       "1                                                   6.0                                                                                                         \n",
       "2                                                   5.0                                                                                                         \n",
       "3                                                   4.0                                                                                                         \n",
       "4                                                   5.0                                                                                                         \n",
       "...                                                 ...                                                                                                         \n",
       "1092                                                5.0                                                                                                         \n",
       "1093                                                5.0                                                                                                         \n",
       "1094                                                6.0                                                                                                         \n",
       "1095                                                4.0                                                                                                         \n",
       "1096                                                4.0                                                                                                         \n",
       "\n",
       "      When watching a movie I get completely immersed in the alternative reality of the film  \\\n",
       "0                                                   5.0                                        \n",
       "1                                                   5.0                                        \n",
       "2                                                   5.0                                        \n",
       "3                                                   5.0                                        \n",
       "4                                                   6.0                                        \n",
       "...                                                 ...                                        \n",
       "1092                                                5.0                                        \n",
       "1093                                                5.0                                        \n",
       "1094                                                6.0                                        \n",
       "1095                                                3.0                                        \n",
       "1096                                                4.0                                        \n",
       "\n",
       "      Movies change my position on social economic or political issues  \\\n",
       "0                                                   5.0                  \n",
       "1                                                   3.0                  \n",
       "2                                                   4.0                  \n",
       "3                                                   3.0                  \n",
       "4                                                   4.0                  \n",
       "...                                                 ...                  \n",
       "1092                                                4.0                  \n",
       "1093                                                6.0                  \n",
       "1094                                                4.0                  \n",
       "1095                                                3.0                  \n",
       "1096                                                4.0                  \n",
       "\n",
       "      When watching movies things get so intense that I have to stop watching  \\\n",
       "0                                                   1.0                         \n",
       "1                                                   2.0                         \n",
       "2                                                   4.0                         \n",
       "3                                                   1.0                         \n",
       "4                                                   4.0                         \n",
       "...                                                 ...                         \n",
       "1092                                                4.0                         \n",
       "1093                                                5.0                         \n",
       "1094                                                2.0                         \n",
       "1095                                                1.0                         \n",
       "1096                                                1.0                         \n",
       "\n",
       "      Gender identity (1 = female; 2 = male; 3 = self-described)  \\\n",
       "0                                                   1.0            \n",
       "1                                                   1.0            \n",
       "2                                                   1.0            \n",
       "3                                                   1.0            \n",
       "4                                                   1.0            \n",
       "...                                                 ...            \n",
       "1092                                                1.0            \n",
       "1093                                                1.0            \n",
       "1094                                                1.0            \n",
       "1095                                                1.0            \n",
       "1096                                                1.0            \n",
       "\n",
       "      Are you an only child? (1: Yes; 0: No; -1: Did not respond)  \\\n",
       "0                                                     0             \n",
       "1                                                     0             \n",
       "2                                                     1             \n",
       "3                                                     0             \n",
       "4                                                     1             \n",
       "...                                                 ...             \n",
       "1092                                                  0             \n",
       "1093                                                  0             \n",
       "1094                                                  0             \n",
       "1095                                                  0             \n",
       "1096                                                  0             \n",
       "\n",
       "      Movies are best enjoyed alone (1: Yes; 0: No; -1: Did not respond)  \n",
       "0                                                     1                   \n",
       "1                                                     0                   \n",
       "2                                                     0                   \n",
       "3                                                     1                   \n",
       "4                                                     1                   \n",
       "...                                                 ...                   \n",
       "1092                                                  0                   \n",
       "1093                                                  0                   \n",
       "1094                                                  0                   \n",
       "1095                                                  1                   \n",
       "1096                                                  1                   \n",
       "\n",
       "[1097 rows x 477 columns]"
      ]
     },
     "execution_count": 11,
     "metadata": {},
     "output_type": "execute_result"
    }
   ],
   "source": [
    "for row in range(0,num_users_rows):\n",
    "    for col in range(0,num_movie_cols):\n",
    "        if pd.isna(data.iloc[row,col]):\n",
    "            imputation = (col_mean_dict[col]+ row_mean_dict[row])/2\n",
    "            data.iloc[row,col] = imputation\n",
    "data"
   ]
  },
  {
   "cell_type": "markdown",
   "metadata": {},
   "source": [
    "### question 1"
   ]
  },
  {
   "cell_type": "code",
   "execution_count": 12,
   "metadata": {},
   "outputs": [],
   "source": [
    "from sklearn.linear_model import LinearRegression\n",
    "from sklearn.metrics import r2_score\n",
    "import matplotlib.pyplot as plt\n",
    "from tqdm import tqdm"
   ]
  },
  {
   "cell_type": "code",
   "execution_count": 13,
   "metadata": {},
   "outputs": [
    {
     "name": "stderr",
     "output_type": "stream",
     "text": [
      "100%|██████████| 400/400 [01:11<00:00,  5.58it/s]\n"
     ]
    }
   ],
   "source": [
    "movie_COD_other = {}\n",
    "for y_index in tqdm(range(0,num_movie_cols)):\n",
    "    y_vals = data.iloc[:,y_index].values #this is the y (ratings for this movie)\n",
    "    movie_name = data.columns[y_index]#this is the movie name\n",
    "    movie_COD_other[movie_name]=[float(\"-inf\"),\"\"]#initialize in dict\n",
    "    for x_index in range(0,num_movie_cols):\n",
    "        if x_index!=y_index:#use all other movies to predict\n",
    "            x_vals = data.iloc[:,x_index].values#the x values (ratings for other movies)\n",
    "            x_vals = x_vals.reshape(-1,1)\n",
    "            reg = LinearRegression()\n",
    "            reg.fit(x_vals,y_vals)\n",
    "            y_hat = reg.predict(x_vals)\n",
    "            r2 = r2_score(y_vals,y_hat)#COD = r^2\n",
    "            if r2>movie_COD_other[movie_name][0]:#consistently finding greater COD\n",
    "                other_movie_name = data.columns[x_index]\n",
    "                movie_COD_other[movie_name]=[r2, other_movie_name] #update COD and its associated movie"
   ]
  },
  {
   "cell_type": "code",
   "execution_count": 14,
   "metadata": {},
   "outputs": [
    {
     "data": {
      "text/plain": [
       "0.3690687979237157"
      ]
     },
     "execution_count": 14,
     "metadata": {},
     "output_type": "execute_result"
    }
   ],
   "source": [
    "#report the average of those 400 models:\n",
    "CODs = [movie_COD_other[i][0] for i in movie_COD_other]\n",
    "np.mean(CODs)"
   ]
  },
  {
   "cell_type": "code",
   "execution_count": 15,
   "metadata": {},
   "outputs": [
    {
     "data": {
      "image/png": "[encoded data removed]",
      "text/plain": [
       "<Figure size 800x500 with 1 Axes>"
      ]
     },
     "metadata": {},
     "output_type": "display_data"
    }
   ],
   "source": [
    "#plot histogram\n",
    "plt.figure(figsize=(8,5))\n",
    "plt.hist(CODs)\n",
    "plt.title('COD histogram')\n",
    "plt.xlabel(\"COD value\")\n",
    "plt.ylabel(\"frequency\")\n",
    "plt.show()"
   ]
  },
  {
   "cell_type": "code",
   "execution_count": 16,
   "metadata": {},
   "outputs": [
    {
     "data": {
      "text/plain": [
       "[('Erik the Viking (1989)', [0.6803586481291373, 'I.Q. (1994)']),\n",
       " ('I.Q. (1994)', [0.6803586481291373, 'Erik the Viking (1989)']),\n",
       " ('The Lookout (2007)', [0.6589551291567151, 'Patton (1970)']),\n",
       " ('Patton (1970)', [0.6589551291567151, 'The Lookout (2007)']),\n",
       " ('Congo (1995)', [0.656520890202376, 'The Straight Story (1999)']),\n",
       " ('The Straight Story (1999)', [0.656520890202376, 'Congo (1995)']),\n",
       " ('The Bandit (1996)', [0.652789366279882, 'Best Laid Plans (1999)']),\n",
       " ('Best Laid Plans (1999)', [0.652789366279882, 'The Bandit (1996)']),\n",
       " ('Ran (1985)', [0.6478194879446582, 'Heavy Traffic (1973)']),\n",
       " ('Heavy Traffic (1973)', [0.6478194879446582, 'Ran (1985)'])]"
      ]
     },
     "execution_count": 16,
     "metadata": {},
     "output_type": "execute_result"
    }
   ],
   "source": [
    "top_best = sorted(movie_COD_other.items(), key=lambda i: i[1][0],reverse=True)\n",
    "temp_best = top_best[0:10]\n",
    "temp_best"
   ]
  },
  {
   "cell_type": "code",
   "execution_count": 17,
   "metadata": {},
   "outputs": [
    {
     "data": {
      "text/html": [
       "<div>\n",
       "<style scoped>\n",
       "    .dataframe tbody tr th:only-of-type {\n",
       "        vertical-align: middle;\n",
       "    }\n",
       "\n",
       "    .dataframe tbody tr th {\n",
       "        vertical-align: top;\n",
       "    }\n",
       "\n",
       "    .dataframe thead th {\n",
       "        text-align: right;\n",
       "    }\n",
       "</style>\n",
       "<table border=\"1\" class=\"dataframe\">\n",
       "  <thead>\n",
       "    <tr style=\"text-align: right;\">\n",
       "      <th></th>\n",
       "      <th>10 movies that are easiest to predict</th>\n",
       "      <th>associated COD value</th>\n",
       "      <th>Which movie’s ratings are the best predictor</th>\n",
       "    </tr>\n",
       "  </thead>\n",
       "  <tbody>\n",
       "    <tr>\n",
       "      <th>0</th>\n",
       "      <td>Erik the Viking (1989)</td>\n",
       "      <td>0.680359</td>\n",
       "      <td>I.Q. (1994)</td>\n",
       "    </tr>\n",
       "    <tr>\n",
       "      <th>1</th>\n",
       "      <td>I.Q. (1994)</td>\n",
       "      <td>0.680359</td>\n",
       "      <td>Erik the Viking (1989)</td>\n",
       "    </tr>\n",
       "    <tr>\n",
       "      <th>2</th>\n",
       "      <td>The Lookout (2007)</td>\n",
       "      <td>0.658955</td>\n",
       "      <td>Patton (1970)</td>\n",
       "    </tr>\n",
       "    <tr>\n",
       "      <th>3</th>\n",
       "      <td>Patton (1970)</td>\n",
       "      <td>0.658955</td>\n",
       "      <td>The Lookout (2007)</td>\n",
       "    </tr>\n",
       "    <tr>\n",
       "      <th>4</th>\n",
       "      <td>Congo (1995)</td>\n",
       "      <td>0.656521</td>\n",
       "      <td>The Straight Story (1999)</td>\n",
       "    </tr>\n",
       "    <tr>\n",
       "      <th>5</th>\n",
       "      <td>The Straight Story (1999)</td>\n",
       "      <td>0.656521</td>\n",
       "      <td>Congo (1995)</td>\n",
       "    </tr>\n",
       "    <tr>\n",
       "      <th>6</th>\n",
       "      <td>The Bandit (1996)</td>\n",
       "      <td>0.652789</td>\n",
       "      <td>Best Laid Plans (1999)</td>\n",
       "    </tr>\n",
       "    <tr>\n",
       "      <th>7</th>\n",
       "      <td>Best Laid Plans (1999)</td>\n",
       "      <td>0.652789</td>\n",
       "      <td>The Bandit (1996)</td>\n",
       "    </tr>\n",
       "    <tr>\n",
       "      <th>8</th>\n",
       "      <td>Ran (1985)</td>\n",
       "      <td>0.647819</td>\n",
       "      <td>Heavy Traffic (1973)</td>\n",
       "    </tr>\n",
       "    <tr>\n",
       "      <th>9</th>\n",
       "      <td>Heavy Traffic (1973)</td>\n",
       "      <td>0.647819</td>\n",
       "      <td>Ran (1985)</td>\n",
       "    </tr>\n",
       "  </tbody>\n",
       "</table>\n",
       "</div>"
      ],
      "text/plain": [
       "  10 movies that are easiest to predict  associated COD value  \\\n",
       "0                Erik the Viking (1989)              0.680359   \n",
       "1                           I.Q. (1994)              0.680359   \n",
       "2                    The Lookout (2007)              0.658955   \n",
       "3                         Patton (1970)              0.658955   \n",
       "4                          Congo (1995)              0.656521   \n",
       "5             The Straight Story (1999)              0.656521   \n",
       "6                     The Bandit (1996)              0.652789   \n",
       "7                Best Laid Plans (1999)              0.652789   \n",
       "8                            Ran (1985)              0.647819   \n",
       "9                  Heavy Traffic (1973)              0.647819   \n",
       "\n",
       "  Which movie’s ratings are the best predictor  \n",
       "0                                  I.Q. (1994)  \n",
       "1                       Erik the Viking (1989)  \n",
       "2                                Patton (1970)  \n",
       "3                           The Lookout (2007)  \n",
       "4                    The Straight Story (1999)  \n",
       "5                                 Congo (1995)  \n",
       "6                       Best Laid Plans (1999)  \n",
       "7                            The Bandit (1996)  \n",
       "8                         Heavy Traffic (1973)  \n",
       "9                                   Ran (1985)  "
      ]
     },
     "execution_count": 17,
     "metadata": {},
     "output_type": "execute_result"
    }
   ],
   "source": [
    "top_best_list = [[i[0],i[1][0],i[1][1]] for i in temp_best ]\n",
    "df_best = pd.DataFrame(top_best_list, columns = ['10 movies that are easiest to predict','associated COD value','Which movie’s ratings are the best predictor'])\n",
    "df_best"
   ]
  },
  {
   "cell_type": "code",
   "execution_count": 18,
   "metadata": {},
   "outputs": [
    {
     "data": {
      "text/plain": [
       "[('Avatar (2009)',\n",
       "  [0.06788740393778625, \"Pirates of the Caribbean: Dead Man's Chest (2006)\"]),\n",
       " ('Interstellar (2014)', [0.08161205184687792, 'Torque (2004)']),\n",
       " ('Black Swan (2010)',\n",
       "  [0.09486062776297288, 'Once Upon a Time in America (1984)']),\n",
       " ('La La Land (2016)', [0.11020663183772739, 'The Lookout (2007)']),\n",
       " ('Clueless (1995)', [0.11090474997229227, 'Love Story (1970)']),\n",
       " ('The Cabin in the Woods (2012)',\n",
       "  [0.11547617566324209, 'The Evil Dead (1981)']),\n",
       " ('Grown Ups 2 (2013)', [0.12326924270646411, 'Knight and Day (2010)']),\n",
       " ('Back to the Future (1985)',\n",
       "  [0.12983077791309572, '3000 Miles to Graceland (2001)']),\n",
       " ('The Wolf of Wall Street (2013)', [0.1327926626628234, 'Memento (2000)']),\n",
       " ('Planet of the Apes (2001)', [0.13489887779460075, 'Equilibrium (2002)'])]"
      ]
     },
     "execution_count": 18,
     "metadata": {},
     "output_type": "execute_result"
    }
   ],
   "source": [
    "top_worst = sorted(movie_COD_other.items(),key = lambda i: i[1][0])\n",
    "temp_worst = top_worst[0:10]\n",
    "temp_worst"
   ]
  },
  {
   "cell_type": "code",
   "execution_count": 19,
   "metadata": {},
   "outputs": [
    {
     "data": {
      "text/html": [
       "<div>\n",
       "<style scoped>\n",
       "    .dataframe tbody tr th:only-of-type {\n",
       "        vertical-align: middle;\n",
       "    }\n",
       "\n",
       "    .dataframe tbody tr th {\n",
       "        vertical-align: top;\n",
       "    }\n",
       "\n",
       "    .dataframe thead th {\n",
       "        text-align: right;\n",
       "    }\n",
       "</style>\n",
       "<table border=\"1\" class=\"dataframe\">\n",
       "  <thead>\n",
       "    <tr style=\"text-align: right;\">\n",
       "      <th></th>\n",
       "      <th>10 movies that are hardest to predict</th>\n",
       "      <th>associated COD value</th>\n",
       "      <th>Which movie’s ratings are the best predictor</th>\n",
       "    </tr>\n",
       "  </thead>\n",
       "  <tbody>\n",
       "    <tr>\n",
       "      <th>0</th>\n",
       "      <td>Avatar (2009)</td>\n",
       "      <td>0.067887</td>\n",
       "      <td>Pirates of the Caribbean: Dead Man's Chest (2006)</td>\n",
       "    </tr>\n",
       "    <tr>\n",
       "      <th>1</th>\n",
       "      <td>Interstellar (2014)</td>\n",
       "      <td>0.081612</td>\n",
       "      <td>Torque (2004)</td>\n",
       "    </tr>\n",
       "    <tr>\n",
       "      <th>2</th>\n",
       "      <td>Black Swan (2010)</td>\n",
       "      <td>0.094861</td>\n",
       "      <td>Once Upon a Time in America (1984)</td>\n",
       "    </tr>\n",
       "    <tr>\n",
       "      <th>3</th>\n",
       "      <td>La La Land (2016)</td>\n",
       "      <td>0.110207</td>\n",
       "      <td>The Lookout (2007)</td>\n",
       "    </tr>\n",
       "    <tr>\n",
       "      <th>4</th>\n",
       "      <td>Clueless (1995)</td>\n",
       "      <td>0.110905</td>\n",
       "      <td>Love Story (1970)</td>\n",
       "    </tr>\n",
       "    <tr>\n",
       "      <th>5</th>\n",
       "      <td>The Cabin in the Woods (2012)</td>\n",
       "      <td>0.115476</td>\n",
       "      <td>The Evil Dead (1981)</td>\n",
       "    </tr>\n",
       "    <tr>\n",
       "      <th>6</th>\n",
       "      <td>Grown Ups 2 (2013)</td>\n",
       "      <td>0.123269</td>\n",
       "      <td>Knight and Day (2010)</td>\n",
       "    </tr>\n",
       "    <tr>\n",
       "      <th>7</th>\n",
       "      <td>Back to the Future (1985)</td>\n",
       "      <td>0.129831</td>\n",
       "      <td>3000 Miles to Graceland (2001)</td>\n",
       "    </tr>\n",
       "    <tr>\n",
       "      <th>8</th>\n",
       "      <td>The Wolf of Wall Street (2013)</td>\n",
       "      <td>0.132793</td>\n",
       "      <td>Memento (2000)</td>\n",
       "    </tr>\n",
       "    <tr>\n",
       "      <th>9</th>\n",
       "      <td>Planet of the Apes (2001)</td>\n",
       "      <td>0.134899</td>\n",
       "      <td>Equilibrium (2002)</td>\n",
       "    </tr>\n",
       "  </tbody>\n",
       "</table>\n",
       "</div>"
      ],
      "text/plain": [
       "  10 movies that are hardest to predict  associated COD value  \\\n",
       "0                         Avatar (2009)              0.067887   \n",
       "1                   Interstellar (2014)              0.081612   \n",
       "2                     Black Swan (2010)              0.094861   \n",
       "3                     La La Land (2016)              0.110207   \n",
       "4                       Clueless (1995)              0.110905   \n",
       "5         The Cabin in the Woods (2012)              0.115476   \n",
       "6                    Grown Ups 2 (2013)              0.123269   \n",
       "7             Back to the Future (1985)              0.129831   \n",
       "8        The Wolf of Wall Street (2013)              0.132793   \n",
       "9             Planet of the Apes (2001)              0.134899   \n",
       "\n",
       "        Which movie’s ratings are the best predictor  \n",
       "0  Pirates of the Caribbean: Dead Man's Chest (2006)  \n",
       "1                                      Torque (2004)  \n",
       "2                 Once Upon a Time in America (1984)  \n",
       "3                                 The Lookout (2007)  \n",
       "4                                  Love Story (1970)  \n",
       "5                               The Evil Dead (1981)  \n",
       "6                              Knight and Day (2010)  \n",
       "7                     3000 Miles to Graceland (2001)  \n",
       "8                                     Memento (2000)  \n",
       "9                                 Equilibrium (2002)  "
      ]
     },
     "execution_count": 19,
     "metadata": {},
     "output_type": "execute_result"
    }
   ],
   "source": [
    "top_worst_list = [[i[0],i[1][0],i[1][1]] for i in temp_worst]\n",
    "df_worst = pd.DataFrame(top_worst_list, columns = ['10 movies that are hardest to predict','associated COD value','Which movie’s ratings are the best predictor'])\n",
    "df_worst"
   ]
  },
  {
   "cell_type": "markdown",
   "metadata": {},
   "source": [
    "### Question 2"
   ]
  },
  {
   "cell_type": "code",
   "execution_count": 20,
   "metadata": {},
   "outputs": [
    {
     "data": {
      "text/plain": [
       "24"
      ]
     },
     "execution_count": 20,
     "metadata": {},
     "output_type": "execute_result"
    }
   ],
   "source": [
    "#calculate number of NAs\n",
    "one = data.columns[474]\n",
    "nulls = [i for i in data[one].isna() if i==True]\n",
    "len(nulls)"
   ]
  },
  {
   "cell_type": "code",
   "execution_count": 21,
   "metadata": {},
   "outputs": [],
   "source": [
    "#drop the rows containing NAs in the three given columns\n",
    "subset = data.columns[474:477]\n",
    "nadropped_df = data.dropna(subset = subset, inplace=False)"
   ]
  },
  {
   "cell_type": "code",
   "execution_count": 22,
   "metadata": {},
   "outputs": [],
   "source": [
    "gender_identity_vals = nadropped_df.iloc[:,474].values.reshape(-1,1)\n",
    "sibship_vals = nadropped_df.iloc[:,475].values.reshape(-1,1)\n",
    "social_view_vals = nadropped_df.iloc[:,476].values.reshape(-1,1)"
   ]
  },
  {
   "cell_type": "code",
   "execution_count": 23,
   "metadata": {},
   "outputs": [
    {
     "data": {
      "text/plain": [
       "[0.6705508584276447,\n",
       " 0.6687209018918612,\n",
       " 0.6437013269706907,\n",
       " 0.6428231266182935,\n",
       " 0.6385559520236557,\n",
       " 0.6402576126993955,\n",
       " 0.6430506320418277,\n",
       " 0.6417301965939766,\n",
       " 0.6324454638112478,\n",
       " 0.6331028631650752]"
      ]
     },
     "execution_count": 23,
     "metadata": {},
     "output_type": "execute_result"
    }
   ],
   "source": [
    "#build multiple lr model for movies with best CODs\n",
    "COD_list_best = []\n",
    "for bests in temp_best:\n",
    "    best_predictor = nadropped_df[bests[1][1]].values.reshape(-1,1)\n",
    "    x = np.concatenate((gender_identity_vals, sibship_vals, social_view_vals,best_predictor), axis=1)\n",
    "    y = nadropped_df[bests[0]].values.reshape(-1,1)\n",
    "    reg = LinearRegression().fit(x,y)\n",
    "    y_hat = reg.predict(x)\n",
    "    r2 = r2_score(y,y_hat)\n",
    "    COD_list_best.append(r2)\n",
    "COD_list_best"
   ]
  },
  {
   "cell_type": "code",
   "execution_count": 24,
   "metadata": {},
   "outputs": [
    {
     "data": {
      "text/plain": [
       "[0.07374361632107052,\n",
       " 0.07563823698608574,\n",
       " 0.08564157960716079,\n",
       " 0.10701706758525886,\n",
       " 0.11131133975134166,\n",
       " 0.11650779443424464,\n",
       " 0.12431579982363905,\n",
       " 0.12733616747013843,\n",
       " 0.13817100249059588,\n",
       " 0.13243370404334054]"
      ]
     },
     "execution_count": 24,
     "metadata": {},
     "output_type": "execute_result"
    }
   ],
   "source": [
    "#build multiple lr model for movies with lowest CODs\n",
    "COD_list_worst = []\n",
    "for worsts in temp_worst:\n",
    "    best_predictor = nadropped_df[worsts[1][1]].values.reshape(-1,1)\n",
    "    x = np.concatenate((gender_identity_vals, sibship_vals, social_view_vals,best_predictor), axis=1)\n",
    "    y = nadropped_df[worsts[0]].values.reshape(-1,1)\n",
    "    reg = LinearRegression().fit(x,y)\n",
    "    y_hat = reg.predict(x)\n",
    "    r2 = r2_score(y,y_hat)\n",
    "    COD_list_worst.append(r2)\n",
    "COD_list_worst"
   ]
  },
  {
   "cell_type": "code",
   "execution_count": 25,
   "metadata": {},
   "outputs": [
    {
     "data": {
      "text/plain": [
       "[0.6705508584276447,\n",
       " 0.6687209018918612,\n",
       " 0.6437013269706907,\n",
       " 0.6428231266182935,\n",
       " 0.6385559520236557,\n",
       " 0.6402576126993955,\n",
       " 0.6430506320418277,\n",
       " 0.6417301965939766,\n",
       " 0.6324454638112478,\n",
       " 0.6331028631650752,\n",
       " 0.07374361632107052,\n",
       " 0.07563823698608574,\n",
       " 0.08564157960716079,\n",
       " 0.10701706758525886,\n",
       " 0.11131133975134166,\n",
       " 0.11650779443424464,\n",
       " 0.12431579982363905,\n",
       " 0.12733616747013843,\n",
       " 0.13817100249059588,\n",
       " 0.13243370404334054]"
      ]
     },
     "execution_count": 25,
     "metadata": {},
     "output_type": "execute_result"
    }
   ],
   "source": [
    "new_COD_twenty = []\n",
    "new_COD_twenty.extend(COD_list_best)\n",
    "new_COD_twenty.extend(COD_list_worst)\n",
    "new_COD_twenty"
   ]
  },
  {
   "cell_type": "code",
   "execution_count": 26,
   "metadata": {},
   "outputs": [
    {
     "data": {
      "text/plain": [
       "[0.6803586481291373,\n",
       " 0.6803586481291373,\n",
       " 0.6589551291567151,\n",
       " 0.6589551291567151,\n",
       " 0.656520890202376,\n",
       " 0.656520890202376,\n",
       " 0.652789366279882,\n",
       " 0.652789366279882,\n",
       " 0.6478194879446582,\n",
       " 0.6478194879446582,\n",
       " 0.06788740393778625,\n",
       " 0.08161205184687792,\n",
       " 0.09486062776297288,\n",
       " 0.11020663183772739,\n",
       " 0.11090474997229227,\n",
       " 0.11547617566324209,\n",
       " 0.12326924270646411,\n",
       " 0.12983077791309572,\n",
       " 0.1327926626628234,\n",
       " 0.13489887779460075]"
      ]
     },
     "execution_count": 26,
     "metadata": {},
     "output_type": "execute_result"
    }
   ],
   "source": [
    "old_COD_twenty = []\n",
    "old_COD_twenty.extend([i[1][0] for i in temp_best])\n",
    "old_COD_twenty.extend([i[1][0] for i in temp_worst])\n",
    "old_COD_twenty"
   ]
  },
  {
   "cell_type": "code",
   "execution_count": 27,
   "metadata": {},
   "outputs": [
    {
     "name": "stdout",
     "output_type": "stream",
     "text": [
      "[ 0.00980779  0.01163775  0.0152538   0.016132    0.01796494  0.01626328\n",
      "  0.00973873  0.01105917  0.01537402  0.01471662 -0.00585621  0.00597381\n",
      "  0.00921905  0.00318956 -0.00040659 -0.00103162 -0.00104656  0.00249461\n",
      " -0.00537834  0.00246517]\n"
     ]
    }
   ],
   "source": [
    "diff = np.array(old_COD_twenty)-np.array(new_COD_twenty)\n",
    "print(diff)"
   ]
  },
  {
   "cell_type": "code",
   "execution_count": 28,
   "metadata": {},
   "outputs": [
    {
     "data": {
      "image/png": "[encoded data removed]",
      "text/plain": [
       "<Figure size 500x500 with 1 Axes>"
      ]
     },
     "metadata": {},
     "output_type": "display_data"
    }
   ],
   "source": [
    "plt.figure(figsize=(5,5))\n",
    "plt.scatter(old_COD_twenty,new_COD_twenty)\n",
    "plt.xlabel('old COD(R^2)')\n",
    "plt.ylabel('new COD(R^2)')\n",
    "plt.show()"
   ]
  },
  {
   "cell_type": "markdown",
   "metadata": {},
   "source": [
    "### Question 3"
   ]
  },
  {
   "cell_type": "code",
   "execution_count": 29,
   "metadata": {},
   "outputs": [
    {
     "name": "stdout",
     "output_type": "stream",
     "text": [
      "['Blues Brothers 2000 (1998)', 'Uptown Girls (2003)', '28 Days Later (2002)', 'The Godfather: Part II (1974)', 'The Godfather (1972)', 'Goodfellas (1990)', 'Knight and Day (2010)', 'The Machinist (2004)', 'Just Married (2003)', 'Equilibrium (2002)', \"Pirates of the Caribbean: At World's End (2007)\", 'Pirates of the Caribbean: The Curse of the Black Pearl (2003)', 'The Evil Dead (1981)', 'The Poseidon Adventure (1972)', 'Monsters  Inc.(2001)', 'The Rock (1996)', 'Predator (1987)', 'Hellraiser (1987)', \"My Best Friend's Wedding (1997)\", 'Austin Powers: The Spy Who Shagged Me (1999)', 'Austin Powers in Goldmember (2002)', 'Star Wars: Episode 1 - The Phantom Menace (1999)', 'Star Wars: Episode II - Attack of the Clones (2002)', 'The Good the Bad and the Ugly (1966)', \"There's Something About Mary (1998)\", 'The Green Mile (1999)', 'Let the Right One In (2008)', 'Showgirls (1995)', 'Black Hawk Down (2001)', 'The Talented Mr. Ripley (1999)']\n"
     ]
    }
   ],
   "source": [
    "#finding the middle most 30 movies\n",
    "sorted_movies = sorted(movie_COD_other.items(), key=lambda x: x[1][0])\n",
    "middle_index = len(sorted_movies) // 2\n",
    "middle_movies = sorted_movies[max(0, middle_index - 15): middle_index + 15]\n",
    "middle_movie_names = [movie[0] for movie in middle_movies]\n",
    "print(middle_movie_names)"
   ]
  },
  {
   "cell_type": "code",
   "execution_count": 30,
   "metadata": {},
   "outputs": [
    {
     "name": "stdout",
     "output_type": "stream",
     "text": [
      "['The Holiday (2006)', 'Batman: The Dark Knight (2008)', 'The Silence of the Lambs (1991)', 'Ace Ventura: When Nature Calls (1995)', 'Home Alone (1990)', 'L.A. Confidential (1997)', 'The Prestige (2006)', 'Gangs of New York (2002)', 'Traffic (2000)', 'Die Hard (1988)']\n"
     ]
    },
    {
     "data": {
      "text/plain": [
       "{'Blues Brothers 2000 (1998)': 0.3770290512154918,\n",
       " 'Uptown Girls (2003)': 0.4337682204454962,\n",
       " '28 Days Later (2002)': 0.3057769478967105,\n",
       " 'The Godfather: Part II (1974)': 0.5387899588047661,\n",
       " 'The Godfather (1972)': 0.6208610501934203,\n",
       " 'Goodfellas (1990)': 0.3315217412090584,\n",
       " 'Knight and Day (2010)': 0.3935688305246014,\n",
       " 'The Machinist (2004)': 0.3882324330826194,\n",
       " 'Just Married (2003)': 0.3300138964822379,\n",
       " 'Equilibrium (2002)': 0.4097553853400268,\n",
       " \"Pirates of the Caribbean: At World's End (2007)\": 0.6663332099753871,\n",
       " 'Pirates of the Caribbean: The Curse of the Black Pearl (2003)': 0.6117466907238258,\n",
       " 'The Evil Dead (1981)': 0.30548909693229553,\n",
       " 'The Poseidon Adventure (1972)': 0.36889269635728994,\n",
       " 'Monsters  Inc.(2001)': 0.6087493990993141,\n",
       " 'The Rock (1996)': 0.3867956651058419,\n",
       " 'Predator (1987)': 0.29432766742263367,\n",
       " 'Hellraiser (1987)': 0.4174678854364095,\n",
       " \"My Best Friend's Wedding (1997)\": 0.3601069397661416,\n",
       " 'Austin Powers: The Spy Who Shagged Me (1999)': 0.5864300670615898,\n",
       " 'Austin Powers in Goldmember (2002)': 0.5127427438322033,\n",
       " 'Star Wars: Episode 1 - The Phantom Menace (1999)': 0.6790837932226912,\n",
       " 'Star Wars: Episode II - Attack of the Clones (2002)': 0.773090655120254,\n",
       " 'The Good the Bad and the Ugly (1966)': 0.27257152602467283,\n",
       " \"There's Something About Mary (1998)\": 0.4190689542435914,\n",
       " 'The Green Mile (1999)': 0.29788438550954915,\n",
       " 'Let the Right One In (2008)': 0.36615481293349744,\n",
       " 'Showgirls (1995)': 0.40154340012780776,\n",
       " 'Black Hawk Down (2001)': 0.3798789086368394,\n",
       " 'The Talented Mr. Ripley (1999)': 0.33004469494832717}"
      ]
     },
     "execution_count": 30,
     "metadata": {},
     "output_type": "execute_result"
    }
   ],
   "source": [
    "from sklearn.model_selection import train_test_split, GridSearchCV\n",
    "from sklearn.linear_model import Ridge\n",
    "from sklearn.metrics import mean_squared_error\n",
    "import random\n",
    "\n",
    "random.seed(0)\n",
    "np.random.seed(0)\n",
    "# selecting 10 random movies\n",
    "all_movie_names = data.columns[:400].tolist()\n",
    "input_movie_names = random.sample([movie for movie in all_movie_names if movie not in middle_movie_names], 10)\n",
    "X = data[input_movie_names]\n",
    "Y = data[middle_movie_names]\n",
    "# 80/20 train/test split\n",
    "X_train, X_test, Y_train, Y_test = train_test_split(X, Y, test_size=0.2, random_state=0)\n",
    "# Hyperparameter Tuning\n",
    "parameters = {'alpha': np.logspace(-4, 4, 20)}\n",
    "ridge_reg = Ridge()\n",
    "grid_search = GridSearchCV(ridge_reg, parameters, scoring='neg_mean_squared_error', cv=5)\n",
    "rmse_results = {}\n",
    "best_alphas = {}\n",
    "beta_coefficients = {}\n",
    "for movie in middle_movie_names:\n",
    "    grid_search.fit(X_train, Y_train[movie])\n",
    "    best_model = grid_search.best_estimator_\n",
    "    best_alphas[movie] = best_model.alpha\n",
    "    beta_coefficients[movie] = best_model.coef_\n",
    "    y_pred = best_model.predict(X_test)\n",
    "    rmse = mean_squared_error(Y_test[movie], y_pred, squared=False)\n",
    "    rmse_results[movie] = rmse\n",
    "print(input_movie_names)\n",
    "rmse_results"
   ]
  },
  {
   "cell_type": "code",
   "execution_count": 31,
   "metadata": {},
   "outputs": [
    {
     "name": "stdout",
     "output_type": "stream",
     "text": [
      "{'Blues Brothers 2000 (1998)': 78.47599703514607, 'Uptown Girls (2003)': 29.763514416313132, '28 Days Later (2002)': 78.47599703514607, 'The Godfather: Part II (1974)': 29.763514416313132, 'The Godfather (1972)': 78.47599703514607, 'Goodfellas (1990)': 78.47599703514607, 'Knight and Day (2010)': 78.47599703514607, 'The Machinist (2004)': 29.763514416313132, 'Just Married (2003)': 29.763514416313132, 'Equilibrium (2002)': 206.913808111479, \"Pirates of the Caribbean: At World's End (2007)\": 29.763514416313132, 'Pirates of the Caribbean: The Curse of the Black Pearl (2003)': 78.47599703514607, 'The Evil Dead (1981)': 78.47599703514607, 'The Poseidon Adventure (1972)': 206.913808111479, 'Monsters  Inc.(2001)': 78.47599703514607, 'The Rock (1996)': 206.913808111479, 'Predator (1987)': 78.47599703514607, 'Hellraiser (1987)': 11.288378916846883, \"My Best Friend's Wedding (1997)\": 78.47599703514607, 'Austin Powers: The Spy Who Shagged Me (1999)': 78.47599703514607, 'Austin Powers in Goldmember (2002)': 29.763514416313132, 'Star Wars: Episode 1 - The Phantom Menace (1999)': 78.47599703514607, 'Star Wars: Episode II - Attack of the Clones (2002)': 78.47599703514607, 'The Good the Bad and the Ugly (1966)': 78.47599703514607, \"There's Something About Mary (1998)\": 29.763514416313132, 'The Green Mile (1999)': 29.763514416313132, 'Let the Right One In (2008)': 11.288378916846883, 'Showgirls (1995)': 78.47599703514607, 'Black Hawk Down (2001)': 78.47599703514607, 'The Talented Mr. Ripley (1999)': 78.47599703514607}\n"
     ]
    },
    {
     "data": {
      "text/plain": [
       "{'Blues Brothers 2000 (1998)': array([ 0.10421785, -0.00109654,  0.05763488,  0.08847489,  0.02984069,\n",
       "        -0.0068507 ,  0.10517169,  0.09989415,  0.11897351,  0.06148169]),\n",
       " 'Uptown Girls (2003)': array([0.11303273, 0.01009508, 0.01470929, 0.09858094, 0.07913261,\n",
       "        0.12820935, 0.08879813, 0.12577867, 0.19540011, 0.03651784]),\n",
       " '28 Days Later (2002)': array([0.08610734, 0.04499372, 0.04619875, 0.06569097, 0.02973814,\n",
       "        0.13853559, 0.00089156, 0.09445855, 0.08777451, 0.09048686]),\n",
       " 'The Godfather: Part II (1974)': array([-0.04351937,  0.05944793,  0.15845424,  0.02732277,  0.06106063,\n",
       "         0.09909288,  0.11719082,  0.0295088 ,  0.1587471 ,  0.0954063 ]),\n",
       " 'The Godfather (1972)': array([-0.02468894,  0.05740419,  0.11707037,  0.02261946,  0.08282087,\n",
       "         0.16147627,  0.14168522,  0.07441065,  0.12420171,  0.05305634]),\n",
       " 'Goodfellas (1990)': array([0.08538897, 0.07665281, 0.07162591, 0.03898504, 0.03020231,\n",
       "        0.12478127, 0.07429231, 0.09284991, 0.13964946, 0.10329866]),\n",
       " 'Knight and Day (2010)': array([0.11660174, 0.03633087, 0.04680581, 0.0779302 , 0.03236207,\n",
       "        0.12004341, 0.01433673, 0.06937991, 0.13967294, 0.04476494]),\n",
       " 'The Machinist (2004)': array([ 0.04702851,  0.00846952,  0.07002494,  0.01938729, -0.00209036,\n",
       "         0.20174103,  0.13021884,  0.10683732,  0.06736649,  0.12617707]),\n",
       " 'Just Married (2003)': array([ 0.14518875, -0.01131334, -0.02425364,  0.13564108,  0.02546483,\n",
       "         0.08664989,  0.09900319,  0.07962338,  0.22663627,  0.10315044]),\n",
       " 'Equilibrium (2002)': array([0.03683852, 0.04016067, 0.04876588, 0.05261222, 0.04439   ,\n",
       "        0.05934672, 0.03148587, 0.02946297, 0.03793404, 0.03825246]),\n",
       " \"Pirates of the Caribbean: At World's End (2007)\": array([ 0.16250481,  0.14295827,  0.00749683,  0.14314977,  0.17208803,\n",
       "        -0.05884938,  0.03614583,  0.06211753,  0.2028286 ,  0.05701389]),\n",
       " 'Pirates of the Caribbean: The Curse of the Black Pearl (2003)': array([0.156544  , 0.14450383, 0.01474639, 0.05149022, 0.12707103,\n",
       "        0.07507885, 0.04161142, 0.07303207, 0.10243162, 0.09169824]),\n",
       " 'The Evil Dead (1981)': array([0.05919547, 0.04774772, 0.07125641, 0.06530839, 0.00851411,\n",
       "        0.08539003, 0.07750912, 0.15228052, 0.09965365, 0.08978918]),\n",
       " 'The Poseidon Adventure (1972)': array([0.06039747, 0.00612352, 0.03464006, 0.07038818, 0.02048557,\n",
       "        0.05533202, 0.04297327, 0.02252837, 0.05986089, 0.05270561]),\n",
       " 'Monsters  Inc.(2001)': array([0.10825098, 0.10439449, 0.06454912, 0.02768477, 0.17835542,\n",
       "        0.04560116, 0.11046297, 0.0479184 , 0.11022299, 0.11864688]),\n",
       " 'The Rock (1996)': array([0.03380806, 0.01994487, 0.05755392, 0.06328989, 0.03057539,\n",
       "        0.05655795, 0.0499505 , 0.08172027, 0.07937254, 0.07209775]),\n",
       " 'Predator (1987)': array([0.0520309 , 0.01238676, 0.06070122, 0.06706218, 0.01547755,\n",
       "        0.15992772, 0.12417913, 0.06793996, 0.09349456, 0.12291642]),\n",
       " 'Hellraiser (1987)': array([ 0.04955692,  0.05251974,  0.00808925,  0.01491566, -0.00040776,\n",
       "         0.28725143,  0.04198557,  0.04163894,  0.14932608,  0.08309919]),\n",
       " \"My Best Friend's Wedding (1997)\": array([0.13226588, 0.02265893, 0.04225103, 0.11175475, 0.02704748,\n",
       "        0.09467783, 0.0963202 , 0.04889879, 0.07405239, 0.06937926]),\n",
       " 'Austin Powers: The Spy Who Shagged Me (1999)': array([0.09808085, 0.08175132, 0.02153042, 0.17144351, 0.09202925,\n",
       "        0.11008717, 0.06303284, 0.0695189 , 0.1437994 , 0.06229336]),\n",
       " 'Austin Powers in Goldmember (2002)': array([0.02956455, 0.06213025, 0.06377986, 0.18414144, 0.05958894,\n",
       "        0.07407391, 0.04681634, 0.07182155, 0.23489105, 0.08925013]),\n",
       " 'Star Wars: Episode 1 - The Phantom Menace (1999)': array([ 0.05627671,  0.05367114,  0.00162433,  0.09424419,  0.10126897,\n",
       "         0.11788438,  0.09707192,  0.09184598,  0.1659522 , -0.0300358 ]),\n",
       " 'Star Wars: Episode II - Attack of the Clones (2002)': array([ 0.00453572, -0.00552246,  0.04564772,  0.0959494 ,  0.07473331,\n",
       "         0.16277778,  0.03141245,  0.0510813 ,  0.12326227, -0.00547714]),\n",
       " 'The Good the Bad and the Ugly (1966)': array([0.07323144, 0.03910168, 0.05606972, 0.066691  , 0.01735256,\n",
       "        0.08566119, 0.06974708, 0.18346186, 0.13879325, 0.10578017]),\n",
       " \"There's Something About Mary (1998)\": array([ 0.12893435, -0.0169544 ,  0.03334583,  0.10641801,  0.04100056,\n",
       "         0.18704253,  0.08585868,  0.03747874,  0.21530435,  0.09134482]),\n",
       " 'The Green Mile (1999)': array([0.04804208, 0.01923786, 0.02871344, 0.03901426, 0.01723793,\n",
       "        0.27672258, 0.10320759, 0.08995717, 0.12230395, 0.0604801 ]),\n",
       " 'Let the Right One In (2008)': array([ 0.07049707,  0.01178787,  0.06079484,  0.02873911,  0.01925573,\n",
       "         0.15493692, -0.0055545 ,  0.16159093,  0.17595095,  0.05819237]),\n",
       " 'Showgirls (1995)': array([0.08080137, 0.00519615, 0.03744794, 0.07587129, 0.02145775,\n",
       "        0.0680024 , 0.06462214, 0.06388871, 0.11103735, 0.05091305]),\n",
       " 'Black Hawk Down (2001)': array([0.0540913 , 0.05475109, 0.06151908, 0.07767804, 0.04115051,\n",
       "        0.10994027, 0.10059684, 0.04858241, 0.10854518, 0.06054923]),\n",
       " 'The Talented Mr. Ripley (1999)': array([0.0443515 , 0.04226704, 0.08342898, 0.11139676, 0.02335282,\n",
       "        0.07087056, 0.03516071, 0.10841018, 0.14621125, 0.06023353])}"
      ]
     },
     "execution_count": 31,
     "metadata": {},
     "output_type": "execute_result"
    }
   ],
   "source": [
    "print(best_alphas)\n",
    "beta_coefficients"
   ]
  },
  {
   "cell_type": "markdown",
   "metadata": {},
   "source": [
    "### Question 4"
   ]
  },
  {
   "cell_type": "code",
   "execution_count": 32,
   "metadata": {},
   "outputs": [
    {
     "data": {
      "text/plain": [
       "{'Blues Brothers 2000 (1998)': 0.3791900976500419,\n",
       " 'Uptown Girls (2003)': 0.43496783548954004,\n",
       " '28 Days Later (2002)': 0.2995134859429975,\n",
       " 'The Godfather: Part II (1974)': 0.5392096791447393,\n",
       " 'The Godfather (1972)': 0.630442535501554,\n",
       " 'Goodfellas (1990)': 0.3313224168211978,\n",
       " 'Knight and Day (2010)': 0.3920264720933297,\n",
       " 'The Machinist (2004)': 0.3905692478689601,\n",
       " 'Just Married (2003)': 0.33429920254027645,\n",
       " 'Equilibrium (2002)': 0.40525317447399867,\n",
       " \"Pirates of the Caribbean: At World's End (2007)\": 0.6643707597163744,\n",
       " 'Pirates of the Caribbean: The Curse of the Black Pearl (2003)': 0.6127660916501027,\n",
       " 'The Evil Dead (1981)': 0.3043058885861733,\n",
       " 'The Poseidon Adventure (1972)': 0.35831978303370576,\n",
       " 'Monsters  Inc.(2001)': 0.6091373423880317,\n",
       " 'The Rock (1996)': 0.3835812204005411,\n",
       " 'Predator (1987)': 0.2929860101082948,\n",
       " 'Hellraiser (1987)': 0.41996740808702987,\n",
       " \"My Best Friend's Wedding (1997)\": 0.3585217675896975,\n",
       " 'Austin Powers: The Spy Who Shagged Me (1999)': 0.5885714850109632,\n",
       " 'Austin Powers in Goldmember (2002)': 0.514902746295891,\n",
       " 'Star Wars: Episode 1 - The Phantom Menace (1999)': 0.67830501613692,\n",
       " 'Star Wars: Episode II - Attack of the Clones (2002)': 0.7746598600560115,\n",
       " 'The Good the Bad and the Ugly (1966)': 0.27214203235109263,\n",
       " \"There's Something About Mary (1998)\": 0.42141067644640345,\n",
       " 'The Green Mile (1999)': 0.30311838493003945,\n",
       " 'Let the Right One In (2008)': 0.3677153668957611,\n",
       " 'Showgirls (1995)': 0.40550096204404706,\n",
       " 'Black Hawk Down (2001)': 0.3819350169730858,\n",
       " 'The Talented Mr. Ripley (1999)': 0.3365037813780479}"
      ]
     },
     "execution_count": 32,
     "metadata": {},
     "output_type": "execute_result"
    }
   ],
   "source": [
    "from sklearn.linear_model import Lasso\n",
    "random.seed(0)\n",
    "np.random.seed(0)\n",
    "# Hyperparameter Tuning\n",
    "lasso_reg = Lasso()\n",
    "grid_search_lasso = GridSearchCV(lasso_reg, parameters, scoring='neg_mean_squared_error', cv=5)\n",
    "\n",
    "# LASSO\n",
    "rmse_results_lasso = {}\n",
    "best_alphas_lasso = {}\n",
    "beta_coefficients_lasso = {}\n",
    "for movie in middle_movie_names:\n",
    "    grid_search_lasso.fit(X_train, Y_train[movie])\n",
    "    best_model_lasso = grid_search_lasso.best_estimator_\n",
    "    best_alphas_lasso[movie] = best_model_lasso.alpha\n",
    "    beta_coefficients_lasso[movie] = best_model_lasso.coef_\n",
    "    y_pred_lasso = best_model_lasso.predict(X_test)\n",
    "    rmse_lasso = mean_squared_error(Y_test[movie], y_pred_lasso, squared=False)\n",
    "    rmse_results_lasso[movie] = rmse_lasso\n",
    "\n",
    "rmse_results_lasso"
   ]
  },
  {
   "cell_type": "code",
   "execution_count": 33,
   "metadata": {},
   "outputs": [
    {
     "name": "stdout",
     "output_type": "stream",
     "text": [
      "{'Blues Brothers 2000 (1998)': 0.004832930238571752, 'Uptown Girls (2003)': 0.004832930238571752, '28 Days Later (2002)': 0.004832930238571752, 'The Godfather: Part II (1974)': 0.0006951927961775605, 'The Godfather (1972)': 0.0018329807108324356, 'Goodfellas (1990)': 0.0001, 'Knight and Day (2010)': 0.004832930238571752, 'The Machinist (2004)': 0.004832930238571752, 'Just Married (2003)': 0.004832930238571752, 'Equilibrium (2002)': 0.004832930238571752, \"Pirates of the Caribbean: At World's End (2007)\": 0.004832930238571752, 'Pirates of the Caribbean: The Curse of the Black Pearl (2003)': 0.004832930238571752, 'The Evil Dead (1981)': 0.0006951927961775605, 'The Poseidon Adventure (1972)': 0.004832930238571752, 'Monsters  Inc.(2001)': 0.012742749857031334, 'The Rock (1996)': 0.004832930238571752, 'Predator (1987)': 0.0018329807108324356, 'Hellraiser (1987)': 0.0018329807108324356, \"My Best Friend's Wedding (1997)\": 0.004832930238571752, 'Austin Powers: The Spy Who Shagged Me (1999)': 0.004832930238571752, 'Austin Powers in Goldmember (2002)': 0.004832930238571752, 'Star Wars: Episode 1 - The Phantom Menace (1999)': 0.012742749857031334, 'Star Wars: Episode II - Attack of the Clones (2002)': 0.012742749857031334, 'The Good the Bad and the Ugly (1966)': 0.0018329807108324356, \"There's Something About Mary (1998)\": 0.004832930238571752, 'The Green Mile (1999)': 0.004832930238571752, 'Let the Right One In (2008)': 0.0018329807108324356, 'Showgirls (1995)': 0.0018329807108324356, 'Black Hawk Down (2001)': 0.0018329807108324356, 'The Talented Mr. Ripley (1999)': 0.0018329807108324356}\n"
     ]
    },
    {
     "data": {
      "text/plain": [
       "{'Blues Brothers 2000 (1998)': array([ 0.10822944, -0.        ,  0.0523368 ,  0.08932749,  0.01862272,\n",
       "        -0.        ,  0.11654603,  0.10780171,  0.16128885,  0.04723153]),\n",
       " 'Uptown Girls (2003)': array([0.10989936, 0.00138649, 0.00792715, 0.09756276, 0.07824743,\n",
       "        0.13054638, 0.08146676, 0.12491898, 0.23425292, 0.02027379]),\n",
       " '28 Days Later (2002)': array([ 0.08387676,  0.03598596,  0.03690003,  0.05573743,  0.02093047,\n",
       "         0.24747633, -0.        ,  0.10065447,  0.06531187,  0.08165973]),\n",
       " 'The Godfather: Part II (1974)': array([-0.05822413,  0.05566289,  0.16662859,  0.02213592,  0.05994914,\n",
       "         0.10137501,  0.13238064,  0.00040981,  0.21202483,  0.09795321]),\n",
       " 'The Godfather (1972)': array([-0.06256489,  0.04337277,  0.12619412,  0.        ,  0.08551706,\n",
       "         0.3057297 ,  0.17386659,  0.05198992,  0.15902645,  0.01668882]),\n",
       " 'Goodfellas (1990)': array([0.08542962, 0.07502783, 0.07192867, 0.02298631, 0.02011882,\n",
       "        0.19579769, 0.06100039, 0.09009982, 0.21165512, 0.10317807]),\n",
       " 'Knight and Day (2010)': array([ 0.12580922,  0.02396458,  0.04337102,  0.07648791,  0.02365906,\n",
       "         0.18023225, -0.        ,  0.04329435,  0.20962061,  0.01953161]),\n",
       " 'The Machinist (2004)': array([0.0359521 , 0.        , 0.06482931, 0.00426235, 0.        ,\n",
       "        0.27946937, 0.13039139, 0.10650353, 0.02375173, 0.12161962]),\n",
       " 'Just Married (2003)': array([ 0.14624524, -0.        , -0.01197232,  0.14135597,  0.01612519,\n",
       "         0.03561999,  0.09027942,  0.04970959,  0.29377772,  0.1045522 ]),\n",
       " 'Equilibrium (2002)': array([0.03040779, 0.04023685, 0.05659492, 0.06579741, 0.04544592,\n",
       "        0.18715288, 0.        , 0.00356169, 0.02195785, 0.02457795]),\n",
       " \"Pirates of the Caribbean: At World's End (2007)\": array([ 0.16207904,  0.1446664 ,  0.        ,  0.14649405,  0.1745641 ,\n",
       "        -0.        ,  0.        ,  0.03077887,  0.23146634,  0.04016256]),\n",
       " 'Pirates of the Caribbean: The Curse of the Black Pearl (2003)': array([0.19113984, 0.16032491, 0.00153617, 0.0386574 , 0.13293872,\n",
       "        0.0646207 , 0.00844097, 0.06793911, 0.13432787, 0.10288878]),\n",
       " 'The Evil Dead (1981)': array([ 0.05405467,  0.04268597,  0.07121711,  0.05970226, -0.00025667,\n",
       "         0.09860812,  0.07755943,  0.22827125,  0.12144948,  0.08316419]),\n",
       " 'The Poseidon Adventure (1972)': array([ 0.0730342 , -0.        ,  0.03103099,  0.09649113,  0.00384193,\n",
       "         0.09287712,  0.0311954 ,  0.        ,  0.1157074 ,  0.0585442 ]),\n",
       " 'Monsters  Inc.(2001)': array([0.11258721, 0.10312216, 0.05534668, 0.        , 0.19377532,\n",
       "        0.        , 0.12968595, 0.        , 0.13357699, 0.1391183 ]),\n",
       " 'The Rock (1996)': array([0.01048358, 0.0023752 , 0.06204719, 0.07494823, 0.01816029,\n",
       "        0.04275194, 0.0466951 , 0.13590252, 0.17619057, 0.08050755]),\n",
       " 'Predator (1987)': array([ 0.03335514, -0.        ,  0.05407165,  0.0590349 ,  0.00289832,\n",
       "         0.30600879,  0.14498782,  0.03900553,  0.08641278,  0.12910858]),\n",
       " 'Hellraiser (1987)': array([0.04335583, 0.05102221, 0.00438212, 0.00985372, 0.        ,\n",
       "        0.34125436, 0.02749538, 0.02894611, 0.14526108, 0.07673141]),\n",
       " \"My Best Friend's Wedding (1997)\": array([0.15546957, 0.00936712, 0.0374505 , 0.12364225, 0.01704738,\n",
       "        0.13036596, 0.11100044, 0.01956988, 0.0721933 , 0.06808639]),\n",
       " 'Austin Powers: The Spy Who Shagged Me (1999)': array([0.09123185, 0.08162459, 0.00891424, 0.20633738, 0.08810564,\n",
       "        0.14189218, 0.03365257, 0.03611225, 0.22416907, 0.04649139]),\n",
       " 'Austin Powers in Goldmember (2002)': array([0.01202373, 0.06064731, 0.06085951, 0.2019321 , 0.05482771,\n",
       "        0.03024388, 0.03354095, 0.04343097, 0.31773675, 0.09046057]),\n",
       " 'Star Wars: Episode 1 - The Phantom Menace (1999)': array([ 0.02785403,  0.04226566,  0.        ,  0.09184386,  0.09840989,\n",
       "         0.08989813,  0.0908427 ,  0.04138136,  0.24558595, -0.        ]),\n",
       " 'Star Wars: Episode II - Attack of the Clones (2002)': array([0.        , 0.        , 0.02674878, 0.09120582, 0.06680612,\n",
       "        0.25833855, 0.        , 0.        , 0.11363967, 0.        ]),\n",
       " 'The Good the Bad and the Ugly (1966)': array([0.0696925 , 0.03158706, 0.0506389 , 0.05895041, 0.00550535,\n",
       "        0.06521414, 0.05872744, 0.27394585, 0.20083241, 0.10220633]),\n",
       " \"There's Something About Mary (1998)\": array([ 0.12254816, -0.00368855,  0.02396987,  0.10720768,  0.03317107,\n",
       "         0.22255291,  0.06374674,  0.        ,  0.25605996,  0.08645612]),\n",
       " 'The Green Mile (1999)': array([0.03175111, 0.01146945, 0.02022261, 0.02781071, 0.01350809,\n",
       "        0.40840766, 0.08433375, 0.07707975, 0.09444839, 0.03819029]),\n",
       " 'Let the Right One In (2008)': array([ 0.06663744,  0.00782675,  0.05893037,  0.02367291,  0.01775045,\n",
       "         0.16069238, -0.        ,  0.16580692,  0.18311548,  0.05216141]),\n",
       " 'Showgirls (1995)': array([ 0.08590035, -0.        ,  0.03512049,  0.08263488,  0.0125437 ,\n",
       "         0.06146287,  0.06751392,  0.05485488,  0.18655601,  0.0446019 ]),\n",
       " 'Black Hawk Down (2001)': array([0.0402588 , 0.04803367, 0.06119431, 0.08085457, 0.03468756,\n",
       "        0.17455348, 0.11859682, 0.01340259, 0.16056375, 0.04938532]),\n",
       " 'The Talented Mr. Ripley (1999)': array([0.02878558, 0.03786385, 0.09007805, 0.13214191, 0.0128357 ,\n",
       "        0.05029535, 0.0054658 , 0.12960785, 0.25876371, 0.04620263])}"
      ]
     },
     "execution_count": 33,
     "metadata": {},
     "output_type": "execute_result"
    }
   ],
   "source": [
    "print(best_alphas_lasso)\n",
    "beta_coefficients_lasso"
   ]
  },
  {
   "cell_type": "markdown",
   "metadata": {},
   "source": [
    "### Question 5"
   ]
  },
  {
   "cell_type": "code",
   "execution_count": 35,
   "metadata": {},
   "outputs": [],
   "source": [
    "from sklearn.model_selection import cross_val_score, cross_validate\n",
    "from sklearn.linear_model import LogisticRegression\n",
    "from sklearn.metrics import roc_auc_score, roc_curve, auc\n",
    "import matplotlib.pyplot as plt\n",
    "data_original = pd.read_csv(\"data/movieReplicationSet.csv\")\n",
    "# average movie enjoyment for each user\n",
    "real_data_df = data_original.iloc[:, :400]  \n",
    "average_enjoyment = real_data_df.mean(axis=1)  # Average rating for each user\n",
    "# middle 4 movies\n",
    "median_ratings = real_data_df.median().sort_values()\n",
    "middle_movies = median_ratings.iloc[len(median_ratings)//2 - 2 : len(median_ratings)//2 + 2].index.tolist()\n",
    "valid_indices = ~average_enjoyment.isna() #dropping the user with all nan values\n",
    "X = average_enjoyment[valid_indices].values.reshape(-1, 1)\n",
    "# Logistic Regression Models\n",
    "models = {}\n",
    "for movie in middle_movies:\n",
    "    median_rating = data[movie].median()\n",
    "    Y = (data.loc[valid_indices,movie] >= median_rating).astype(int)\n",
    "    log_reg = LogisticRegression()\n",
    "    # cv\n",
    "    cv_results = cross_validate(log_reg, X, Y, cv=5, scoring='roc_auc', return_estimator=True)\n",
    "    # AUC\n",
    "    auc_values = cv_results['test_score']\n",
    "    mean_auc = np.mean(auc_values)\n",
    "    models[movie] = {\n",
    "        'mean_auc': mean_auc,\n",
    "        'estimators': cv_results['estimator']\n",
    "    }"
   ]
  },
  {
   "cell_type": "code",
   "execution_count": 36,
   "metadata": {},
   "outputs": [
    {
     "data": {
      "image/png": "[encoded data removed]",
      "text/plain": [
       "<Figure size 1400x1000 with 4 Axes>"
      ]
     },
     "metadata": {},
     "output_type": "display_data"
    },
    {
     "data": {
      "text/plain": [
       "{'Aliens (1986)': {'beta_1': 4.563638917670303,\n",
       "  'intercept': -13.65318071017865},\n",
       " 'Meet the Parents (2000)': {'beta_1': 3.9434014010326783,\n",
       "  'intercept': -11.784674813130398},\n",
       " 'Independence Day (1996)': {'beta_1': 3.681566022209158,\n",
       "  'intercept': -10.99600149217981},\n",
       " 'Who Framed Roger Rabbit (1988)': {'beta_1': 4.00918646940626,\n",
       "  'intercept': -11.98286544351668}}"
      ]
     },
     "execution_count": 36,
     "metadata": {},
     "output_type": "execute_result"
    }
   ],
   "source": [
    "fig, axes = plt.subplots(2, 2, figsize=(14, 10))\n",
    "axes = axes.flatten()\n",
    "roc_curves = {}\n",
    "mean_betas = {}\n",
    "for i, movie in enumerate(middle_movies):\n",
    "    # Extracting beta coefficients and intercepts\n",
    "    beta_coefficients = [est.coef_[0][0] for est in models[movie]['estimators']]\n",
    "    intercepts = [est.intercept_[0] for est in models[movie]['estimators']]\n",
    "    mean_beta = np.mean(beta_coefficients)\n",
    "    mean_intercept = np.mean(intercepts)\n",
    "    # ROC curve\n",
    "    tprs = []\n",
    "    mean_fpr = np.linspace(0, 1, 100)\n",
    "    for est in models[movie]['estimators']:\n",
    "        fpr, tpr, thresholds = roc_curve(Y, est.predict_proba(X)[:, 1])\n",
    "        tprs.append(np.interp(mean_fpr, fpr, tpr))\n",
    "    mean_tpr = np.mean(tprs, axis=0)\n",
    "    roc_curves[movie] = {'fpr': mean_fpr, 'tpr': mean_tpr}\n",
    "\n",
    "    axes[i].plot(mean_fpr, mean_tpr, label=f'ROC curve (area = {models[movie][\"mean_auc\"]:.2f})')\n",
    "    axes[i].plot([0, 1], [0, 1], linestyle='--')\n",
    "    axes[i].set_title(f'{movie}\\nMean Beta_1 Coefficient: {mean_beta:.3f}, Mean Intercept: {mean_intercept:.3f}')\n",
    "    axes[i].set_xlabel('False Positive Rate')\n",
    "    axes[i].set_ylabel('True Positive Rate')\n",
    "    axes[i].legend(loc='lower right')\n",
    "    mean_betas[movie] = {'beta_1': mean_beta, 'intercept': mean_intercept}\n",
    "plt.tight_layout()\n",
    "plt.show()\n",
    "mean_betas"
   ]
  },
  {
   "cell_type": "markdown",
   "metadata": {},
   "source": [
    "### Extra Credit"
   ]
  },
  {
   "cell_type": "code",
   "execution_count": 37,
   "metadata": {},
   "outputs": [
    {
     "data": {
      "text/plain": [
       "3"
      ]
     },
     "execution_count": 37,
     "metadata": {},
     "output_type": "execute_result"
    }
   ],
   "source": [
    "#first, check number of the null values in each column\n",
    "nulls = [i for i in data['My life is very stressful'].isna() if i==True]\n",
    "len(nulls)#observed both columns contain very less NAs"
   ]
  },
  {
   "cell_type": "code",
   "execution_count": 38,
   "metadata": {},
   "outputs": [],
   "source": [
    "#drop rows containing NaNs for these two features\n",
    "extra_c_data = data.dropna(subset=['My life is very stressful', 'Worries a lot'], inplace=False)"
   ]
  },
  {
   "cell_type": "code",
   "execution_count": 39,
   "metadata": {},
   "outputs": [],
   "source": [
    "x1_vals = extra_c_data['My life is very stressful'].values.reshape(-1,1)\n",
    "x2_vals = extra_c_data['Worries a lot'].values.reshape(-1,1)"
   ]
  },
  {
   "cell_type": "code",
   "execution_count": 40,
   "metadata": {},
   "outputs": [
    {
     "name": "stderr",
     "output_type": "stream",
     "text": [
      "100%|██████████| 400/400 [00:00<00:00, 2031.25it/s]\n"
     ]
    },
    {
     "data": {
      "text/plain": [
       "400"
      ]
     },
     "execution_count": 40,
     "metadata": {},
     "output_type": "execute_result"
    }
   ],
   "source": [
    "COD_stress = {}\n",
    "for y_index in tqdm(range(0,num_movie_cols)):#iterate over the 400 movies\n",
    "    y_vals = extra_c_data.iloc[:,y_index].values #this is the y (ratings for this movie)\n",
    "    movie_name = extra_c_data.columns[y_index]#this is the movie name\n",
    "    reg = LinearRegression()\n",
    "    reg.fit(x1_vals,y_vals)\n",
    "    y_hat = reg.predict(x1_vals)\n",
    "    r2 = r2_score(y_vals,y_hat)#COD = r^2\n",
    "    COD_stress[movie_name] = r2\n",
    "len(COD_stress)"
   ]
  },
  {
   "cell_type": "code",
   "execution_count": 41,
   "metadata": {},
   "outputs": [
    {
     "name": "stderr",
     "output_type": "stream",
     "text": [
      "100%|██████████| 400/400 [00:00<00:00, 2141.38it/s]\n"
     ]
    },
    {
     "data": {
      "text/plain": [
       "400"
      ]
     },
     "execution_count": 41,
     "metadata": {},
     "output_type": "execute_result"
    }
   ],
   "source": [
    "COD_worries = {}\n",
    "for y_index in tqdm(range(0,num_movie_cols)):#iterate over the 400 movies\n",
    "    y_vals = extra_c_data.iloc[:,y_index].values #this is the y (ratings for this movie)\n",
    "    movie_name = extra_c_data.columns[y_index]#this is the movie name\n",
    "    reg = LinearRegression()\n",
    "    reg.fit(x2_vals,y_vals)\n",
    "    y_hat = reg.predict(x2_vals)\n",
    "    r2 = r2_score(y_vals,y_hat)#COD = r^2\n",
    "    COD_worries[movie_name] = r2\n",
    "len(COD_worries)"
   ]
  },
  {
   "cell_type": "code",
   "execution_count": 42,
   "metadata": {},
   "outputs": [
    {
     "name": "stdout",
     "output_type": "stream",
     "text": [
      "average COD for stress is 0.0007103024647777359\n",
      "average COD for worries is 0.002038182919227817\n"
     ]
    }
   ],
   "source": [
    "COD_stress_list = [COD_stress[i] for i in COD_stress]\n",
    "COD_worries_list = [COD_worries[i] for i in COD_worries]\n",
    "print(\"average COD for stress is\", np.mean(COD_stress_list))\n",
    "print(\"average COD for worries is\",np.mean(COD_worries_list))"
   ]
  },
  {
   "cell_type": "code",
   "execution_count": 43,
   "metadata": {},
   "outputs": [
    {
     "data": {
      "text/plain": [
       "[('Jaws (1975)', 0.0070030172741089025),\n",
       " ('Hellraiser (1987)', 0.006779591100630311),\n",
       " ('American Pie (1999)', 0.004771931787327044),\n",
       " ('10 Things I Hate About You (1999)', 0.004754714511158387),\n",
       " ('Stand By Me (1986)', 0.00458751128591528),\n",
       " ('Avatar (2009)', 0.0044346717416856585),\n",
       " ('Se7en (1995)', 0.004232640993365844),\n",
       " ('The Lord of the Rings: The Fellowship of the Ring (2001)',\n",
       "  0.003892004983122921),\n",
       " ('La La Land (2016)', 0.0037673205461459247),\n",
       " ('Ice Age (2002)', 0.0036513186027213873)]"
      ]
     },
     "execution_count": 43,
     "metadata": {},
     "output_type": "execute_result"
    }
   ],
   "source": [
    "best_stress = sorted(COD_stress.items(), key=lambda i: i[1],reverse=True)\n",
    "temp_best_stress = best_stress[0:10]\n",
    "temp_best_stress"
   ]
  },
  {
   "cell_type": "code",
   "execution_count": 44,
   "metadata": {},
   "outputs": [
    {
     "data": {
      "text/plain": [
       "[('Downfall (2004)', 0.009230615503234008),\n",
       " ('Barb Wire (1996)', 0.00910852223919445),\n",
       " ('Avatar (2009)', 0.009019711796414254),\n",
       " ('The Babadook (2014)', 0.008197888426725197),\n",
       " ('25th Hour (2002)', 0.008197830718148613),\n",
       " ('Erik the Viking (1989)', 0.007911349121206945),\n",
       " ('Stir Crazy (1980)', 0.007688001814572409),\n",
       " ('The Truman Show (1998)', 0.007385037115796855),\n",
       " ('A.I. Artificial Intelligence (2001)', 0.007147144215032153),\n",
       " ('The Proposal (2009)', 0.0071198015957024685)]"
      ]
     },
     "execution_count": 44,
     "metadata": {},
     "output_type": "execute_result"
    }
   ],
   "source": [
    "best_worries = sorted(COD_worries.items(), key=lambda i: i[1],reverse=True)\n",
    "temp_best_worries = best_worries[0:10]\n",
    "temp_best_worries"
   ]
  },
  {
   "cell_type": "code",
   "execution_count": 45,
   "metadata": {},
   "outputs": [
    {
     "data": {
      "image/png": "[encoded data removed]",
      "text/plain": [
       "<Figure size 800x500 with 2 Axes>"
      ]
     },
     "metadata": {},
     "output_type": "display_data"
    }
   ],
   "source": [
    "#plot histogram\n",
    "plt.figure(figsize=(8,5))\n",
    "plt.subplot(1,2,1)\n",
    "plt.hist(COD_stress_list, density=True)\n",
    "plt.title('stress COD')\n",
    "plt.subplot(1,2,2)\n",
    "plt.hist(COD_worries_list,density=True)\n",
    "plt.title('worries COD')\n",
    "plt.show()"
   ]
  },
  {
   "cell_type": "code",
   "execution_count": 46,
   "metadata": {},
   "outputs": [
    {
     "data": {
      "text/plain": [
       "array([-0.0022276 , -0.00232893, -0.00424778, -0.00344317, -0.00361032,\n",
       "       -0.00347668, -0.00345536, -0.00349303, -0.00337982, -0.00346848])"
      ]
     },
     "execution_count": 46,
     "metadata": {},
     "output_type": "execute_result"
    }
   ],
   "source": [
    "strs = np.array([i[1] for i in temp_best_stress])\n",
    "wrs = np.array([i[1] for i in temp_best_worries])\n",
    "strs - wrs"
   ]
  }
 ],
 "metadata": {
  "kernelspec": {
   "display_name": "base",
   "language": "python",
   "name": "python3"
  },
  "language_info": {
   "codemirror_mode": {
    "name": "ipython",
    "version": 3
   },
   "file_extension": ".py",
   "mimetype": "text/x-python",
   "name": "python",
   "nbconvert_exporter": "python",
   "pygments_lexer": "ipython3",
   "version": "3.12.1"
  }
 },
 "nbformat": 4,
 "nbformat_minor": 2
}
